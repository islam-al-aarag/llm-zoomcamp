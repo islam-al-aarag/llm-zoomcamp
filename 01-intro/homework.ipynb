{
 "cells": [
  {
   "cell_type": "code",
   "execution_count": 4,
   "id": "1821dbca-d678-4718-9299-0f4c734242e7",
   "metadata": {},
   "outputs": [],
   "source": [
    "import openai\n",
    "from openai import OpenAI"
   ]
  },
  {
   "cell_type": "code",
   "execution_count": 5,
   "id": "1509f955-988b-419a-9267-ac82430cb20d",
   "metadata": {},
   "outputs": [],
   "source": [
    "client = OpenAI()"
   ]
  },
  {
   "cell_type": "code",
   "execution_count": 6,
   "id": "f55a1841-6b02-4ca9-86ec-1b47bf661722",
   "metadata": {},
   "outputs": [],
   "source": [
    "response = client.chat.completions.create(\n",
    "    model='gpt-4o',\n",
    "    messages=[{\"role\": \"user\", \"content\": \"Is it too late to join a course\"}]\n",
    ")"
   ]
  },
  {
   "cell_type": "code",
   "execution_count": 8,
   "id": "e10f2302-183d-4b58-9417-6d5c1c3556e9",
   "metadata": {},
   "outputs": [
    {
     "data": {
      "text/plain": [
       "'Whether it\\'s \"too late\" to join a course highly depends on several factors, including the type of course, its schedule, the institution offering it, and its specific policies. Here are some points to consider:\\n\\n1. **Course Duration and Start Date**:\\n   - If the course just started, you might still be able to join without falling too far behind.\\n   - If it’s already several weeks in, catching up might be more challenging.\\n\\n2. **Enrollment Policies**:\\n   - Different institutions have different add/drop deadlines.\\n   - Some might allow late enrollment with the instructor’s permission.\\n\\n3. **Course Type**:\\n   - For self-paced online courses, you can usually start at any time.\\n   - For structured, synchronous courses (whether online or in-person), joining late could be more difficult.\\n\\n4. **Course Load and Prerequisites**:\\n   - Consider whether you can quickly catch up on missed content and whether you have the necessary background knowledge.\\n\\n5. **Instructor’s Policy**:\\n   - You may need to get approval from the instructor. They can provide guidance on whether you’ll be able to meet the requirements.\\n\\n6. **Logistical Considerations**:\\n   - If the course involves group work, lab sessions, or other hands-on activities, late entry might pose additional challenges.\\n\\nHere are some steps you can take to find out if you can still join:\\n\\n1. **Contact the Instructor**: Ask if it\\'s feasible for you to catch up.\\n2. **Check with the Registrar**: They can inform you about the official policies and deadlines.\\n3. **Evaluate the Syllabus**: Look at the syllabus to understand what you’ve missed and assess your ability to catch up.\\n\\nIf all else fails, keep an eye out for future offerings of the course or similar courses. Many institutions offer the same courses in sequential terms or have alternative options available.'"
      ]
     },
     "execution_count": 8,
     "metadata": {},
     "output_type": "execute_result"
    }
   ],
   "source": [
    "response.choices[0].message.content"
   ]
  },
  {
   "cell_type": "code",
   "execution_count": null,
   "id": "2014286b-7697-4710-b73b-817a7b92c7b8",
   "metadata": {},
   "outputs": [],
   "source": []
  }
 ],
 "metadata": {
  "kernelspec": {
   "display_name": "Python 3 (ipykernel)",
   "language": "python",
   "name": "python3"
  },
  "language_info": {
   "codemirror_mode": {
    "name": "ipython",
    "version": 3
   },
   "file_extension": ".py",
   "mimetype": "text/x-python",
   "name": "python",
   "nbconvert_exporter": "python",
   "pygments_lexer": "ipython3",
   "version": "3.10.13"
  }
 },
 "nbformat": 4,
 "nbformat_minor": 5
}
