{
 "cells": [
  {
   "cell_type": "code",
   "execution_count": 1,
   "id": "085bf639-d1e4-4798-a3e2-a15f6063cca7",
   "metadata": {},
   "outputs": [
    {
     "data": {
      "application/vnd.jupyter.widget-view+json": {
       "model_id": "288e5dcd1ae44da8afd5736fa36d74b6",
       "version_major": 2,
       "version_minor": 0
      },
      "text/plain": [
       "modules.json:   0%|          | 0.00/349 [00:00<?, ?B/s]"
      ]
     },
     "metadata": {},
     "output_type": "display_data"
    },
    {
     "data": {
      "application/vnd.jupyter.widget-view+json": {
       "model_id": "a146810f82bd4c5e96821fed02304942",
       "version_major": 2,
       "version_minor": 0
      },
      "text/plain": [
       "config_sentence_transformers.json:   0%|          | 0.00/116 [00:00<?, ?B/s]"
      ]
     },
     "metadata": {},
     "output_type": "display_data"
    },
    {
     "data": {
      "application/vnd.jupyter.widget-view+json": {
       "model_id": "2496cfeb61734c339e035704f8c0a1fa",
       "version_major": 2,
       "version_minor": 0
      },
      "text/plain": [
       "README.md:   0%|          | 0.00/9.52k [00:00<?, ?B/s]"
      ]
     },
     "metadata": {},
     "output_type": "display_data"
    },
    {
     "data": {
      "application/vnd.jupyter.widget-view+json": {
       "model_id": "68cc58e1b2e94d19899e65e5d6395062",
       "version_major": 2,
       "version_minor": 0
      },
      "text/plain": [
       "sentence_bert_config.json:   0%|          | 0.00/53.0 [00:00<?, ?B/s]"
      ]
     },
     "metadata": {},
     "output_type": "display_data"
    },
    {
     "data": {
      "application/vnd.jupyter.widget-view+json": {
       "model_id": "6bb0a8727cb140679f0406d53a9a7916",
       "version_major": 2,
       "version_minor": 0
      },
      "text/plain": [
       "config.json:   0%|          | 0.00/523 [00:00<?, ?B/s]"
      ]
     },
     "metadata": {},
     "output_type": "display_data"
    },
    {
     "data": {
      "application/vnd.jupyter.widget-view+json": {
       "model_id": "8622409fa29c4347805b7ef40f0d7896",
       "version_major": 2,
       "version_minor": 0
      },
      "text/plain": [
       "model.safetensors:   0%|          | 0.00/265M [00:00<?, ?B/s]"
      ]
     },
     "metadata": {},
     "output_type": "display_data"
    },
    {
     "data": {
      "application/vnd.jupyter.widget-view+json": {
       "model_id": "145b3d89c366483282d703c8a75e2960",
       "version_major": 2,
       "version_minor": 0
      },
      "text/plain": [
       "tokenizer_config.json:   0%|          | 0.00/333 [00:00<?, ?B/s]"
      ]
     },
     "metadata": {},
     "output_type": "display_data"
    },
    {
     "data": {
      "application/vnd.jupyter.widget-view+json": {
       "model_id": "7cae4963bbe14c7dbf83c56ceed71d6b",
       "version_major": 2,
       "version_minor": 0
      },
      "text/plain": [
       "vocab.txt:   0%|          | 0.00/232k [00:00<?, ?B/s]"
      ]
     },
     "metadata": {},
     "output_type": "display_data"
    },
    {
     "data": {
      "application/vnd.jupyter.widget-view+json": {
       "model_id": "bbb44842a10b4b43bdfa3eacbe9ac73c",
       "version_major": 2,
       "version_minor": 0
      },
      "text/plain": [
       "tokenizer.json:   0%|          | 0.00/466k [00:00<?, ?B/s]"
      ]
     },
     "metadata": {},
     "output_type": "display_data"
    },
    {
     "data": {
      "application/vnd.jupyter.widget-view+json": {
       "model_id": "82e6e8a581a54fa2a331148bd322db11",
       "version_major": 2,
       "version_minor": 0
      },
      "text/plain": [
       "special_tokens_map.json:   0%|          | 0.00/112 [00:00<?, ?B/s]"
      ]
     },
     "metadata": {},
     "output_type": "display_data"
    },
    {
     "data": {
      "application/vnd.jupyter.widget-view+json": {
       "model_id": "9e7a35c2541243d5bd343ba5a6e8014f",
       "version_major": 2,
       "version_minor": 0
      },
      "text/plain": [
       "1_Pooling/config.json:   0%|          | 0.00/190 [00:00<?, ?B/s]"
      ]
     },
     "metadata": {},
     "output_type": "display_data"
    }
   ],
   "source": [
    "from sentence_transformers import SentenceTransformer\n",
    "embedding_model = SentenceTransformer('multi-qa-distilbert-cos-v1')"
   ]
  },
  {
   "cell_type": "code",
   "execution_count": 90,
   "id": "4279a359-00c2-4271-8766-63d14390d8a8",
   "metadata": {},
   "outputs": [],
   "source": [
    "user_question = \"I just discovered the course. Can I still join it?\"\n",
    "vector = embedding_model.encode(user_question)"
   ]
  },
  {
   "cell_type": "code",
   "execution_count": 91,
   "id": "ee87ff74-f7f0-4e35-b20f-428662071de7",
   "metadata": {},
   "outputs": [
    {
     "data": {
      "text/plain": [
       "0.07822261"
      ]
     },
     "execution_count": 91,
     "metadata": {},
     "output_type": "execute_result"
    }
   ],
   "source": [
    "vector[0]"
   ]
  },
  {
   "cell_type": "code",
   "execution_count": 56,
   "id": "84b2a5e7-27c9-4a62-bfe7-254d2ee322c2",
   "metadata": {},
   "outputs": [],
   "source": [
    "import requests \n",
    "\n",
    "base_url = 'https://github.com/DataTalksClub/llm-zoomcamp/blob/main'\n",
    "relative_url = '03-vector-search/eval/documents-with-ids.json'\n",
    "docs_url = f'{base_url}/{relative_url}?raw=1'\n",
    "docs_response = requests.get(docs_url)\n",
    "documents = docs_response.json()\n",
    "filtered_documents = [doc for doc in documents if doc['course'] == 'machine-learning-zoomcamp']"
   ]
  },
  {
   "cell_type": "code",
   "execution_count": 67,
   "id": "74326df5-c189-4266-839a-425eb9a033a9",
   "metadata": {},
   "outputs": [
    {
     "data": {
      "application/vnd.jupyter.widget-view+json": {
       "model_id": "efd2077633204cc5abd3f5bbcfd1aa18",
       "version_major": 2,
       "version_minor": 0
      },
      "text/plain": [
       "  0%|          | 0/375 [00:00<?, ?it/s]"
      ]
     },
     "metadata": {},
     "output_type": "display_data"
    }
   ],
   "source": [
    "from tqdm.auto import tqdm\n",
    "embeddings = []\n",
    "for doc in tqdm(filtered_documents):\n",
    "    question = doc['question']\n",
    "    text = doc['text']\n",
    "    qa_text = f'{question} {text}'\n",
    "    embeddings.append(embedding_model.encode(qa_text))"
   ]
  },
  {
   "cell_type": "code",
   "execution_count": 68,
   "id": "4e5508cf-6edd-4105-96c5-d27f8d813fec",
   "metadata": {},
   "outputs": [],
   "source": [
    "import numpy as np\n",
    "X = np.array(embeddings)"
   ]
  },
  {
   "cell_type": "code",
   "execution_count": 69,
   "id": "dd96122b-5311-42f7-9859-c79db5c30a78",
   "metadata": {},
   "outputs": [
    {
     "data": {
      "text/plain": [
       "(375, 768)"
      ]
     },
     "execution_count": 69,
     "metadata": {},
     "output_type": "execute_result"
    }
   ],
   "source": [
    "X.shape"
   ]
  },
  {
   "cell_type": "code",
   "execution_count": 70,
   "id": "0753856b-8dd6-4b5b-9e91-29048beacfe9",
   "metadata": {},
   "outputs": [
    {
     "data": {
      "text/plain": [
       "0.6506574"
      ]
     },
     "execution_count": 70,
     "metadata": {},
     "output_type": "execute_result"
    }
   ],
   "source": [
    "scores = X.dot(vector)\n",
    "np.max(scores)"
   ]
  },
  {
   "cell_type": "code",
   "execution_count": 71,
   "id": "47740edc-4683-43f8-ba44-266b38cdffc9",
   "metadata": {},
   "outputs": [
    {
     "data": {
      "text/plain": [
       "[{'text': 'Yes, you can. You won’t be able to submit some of the homeworks, but you can still take part in the course.\\nIn order to get a certificate, you need to submit 2 out of 3 course projects and review 3 peers’ Projects by the deadline. It means that if you join the course at the end of November and manage to work on two projects, you will still be eligible for a certificate.',\n",
       "  'section': 'General course-related questions',\n",
       "  'question': 'The course has already started. Can I still join it?',\n",
       "  'course': 'machine-learning-zoomcamp',\n",
       "  'id': 'ee58a693'},\n",
       " {'text': 'Welcome to the course! Go to the course page (http://mlzoomcamp.com/), scroll down and start going through the course materials. Then read everything in the cohort folder for your cohort’s year.\\nClick on the links and start watching the videos. Also watch office hours from previous cohorts. Go to DTC youtube channel and click on Playlists and search for {course yyyy}. ML Zoomcamp was first launched in 2021.\\nOr you can just use this link: http://mlzoomcamp.com/#syllabus',\n",
       "  'section': 'General course-related questions',\n",
       "  'question': 'I just joined. What should I do next? How can I access course materials?',\n",
       "  'course': 'machine-learning-zoomcamp',\n",
       "  'id': '0a278fb2'},\n",
       " {'text': \"The process is automated now, so you should receive the email eventually. If you haven’t, check your promotions tab in Gmail as well as spam.\\nIf you unsubscribed from our newsletter, you won't get course related updates too.\\nBut don't worry, it’s not a problem. To make sure you don’t miss anything, join the #course-ml-zoomcamp channel in Slack and our telegram channel with announcements. This is enough to follow the course.\",\n",
       "  'section': 'General course-related questions',\n",
       "  'question': \"I filled the form, but haven't received a confirmation email. Is it normal?\",\n",
       "  'course': 'machine-learning-zoomcamp',\n",
       "  'id': '6ba259b1'},\n",
       " {'text': 'Technically, yes. Advisable? Not really. Reasons:\\nSome homework(s) asks for specific python library versions.\\nAnswers may not match in MCQ options if using different languages other than Python 3.10 (the recommended version for 2023 cohort)\\nAnd as for midterms/capstones, your peer-reviewers may not know these other languages. Do you want to be penalized for others not knowing these other languages?\\nYou can create a separate repo using course’s lessons but written in other languages for your own learnings, but not advisable for submissions.\\ntx[source]',\n",
       "  'section': 'Miscellaneous',\n",
       "  'question': 'Can I do the course in other languages, like R or Scala?',\n",
       "  'course': 'machine-learning-zoomcamp',\n",
       "  'id': '9f261648'},\n",
       " {'text': 'We won’t re-record the course videos. The focus of the course and the skills we want to teach remained the same, and the videos are still up-to-date.\\nIf you haven’t taken part in the previous iteration, you can start watching the videos. It’ll be useful for you and you will learn new things. However, we recommend using Python 3.10 now instead of Python 3.8.',\n",
       "  'section': 'General course-related questions',\n",
       "  'question': 'The course videos are from the previous iteration. Will you release new ones or we’ll use the videos from 2021?',\n",
       "  'course': 'machine-learning-zoomcamp',\n",
       "  'id': 'e7ba6b8a'}]"
      ]
     },
     "execution_count": 71,
     "metadata": {},
     "output_type": "execute_result"
    }
   ],
   "source": [
    "class VectorSearchEngine():\n",
    "    def __init__(self, documents, embeddings):\n",
    "        self.documents = documents\n",
    "        self.embeddings = embeddings\n",
    "\n",
    "    def search(self, v_query, num_results=10):\n",
    "        scores = self.embeddings.dot(v_query)\n",
    "        idx = np.argsort(-scores)[:num_results]\n",
    "        return [self.documents[i] for i in idx]\n",
    "\n",
    "search_engine = VectorSearchEngine(documents=filtered_documents, embeddings=X)\n",
    "search_engine.search(vector, num_results=5)"
   ]
  },
  {
   "cell_type": "code",
   "execution_count": 72,
   "id": "2cdc4392-f1cf-4d2e-907b-b888357e0836",
   "metadata": {},
   "outputs": [],
   "source": [
    "import pandas as pd\n",
    "\n",
    "base_url = 'https://github.com/DataTalksClub/llm-zoomcamp/blob/main'\n",
    "relative_url = '03-vector-search/eval/ground-truth-data.csv'\n",
    "ground_truth_url = f'{base_url}/{relative_url}?raw=1'\n",
    "\n",
    "df_ground_truth = pd.read_csv(ground_truth_url)\n",
    "df_ground_truth = df_ground_truth[df_ground_truth.course == 'machine-learning-zoomcamp']\n",
    "ground_truth = df_ground_truth.to_dict(orient='records')"
   ]
  },
  {
   "cell_type": "code",
   "execution_count": 73,
   "id": "6eacabad-b819-434e-99b5-9e3c304a3578",
   "metadata": {},
   "outputs": [],
   "source": [
    "def hit_rate(relevance_total):\n",
    "    cnt = 0\n",
    "\n",
    "    for line in relevance_total:\n",
    "        if True in line:\n",
    "            cnt = cnt + 1\n",
    "\n",
    "    return cnt / len(relevance_total)"
   ]
  },
  {
   "cell_type": "code",
   "execution_count": 76,
   "id": "7b6fe7db-ea02-41e2-8893-f7e3acf8140c",
   "metadata": {},
   "outputs": [
    {
     "data": {
      "application/vnd.jupyter.widget-view+json": {
       "model_id": "cfba72c017804ce1970603e544aca2bb",
       "version_major": 2,
       "version_minor": 0
      },
      "text/plain": [
       "  0%|          | 0/1830 [00:00<?, ?it/s]"
      ]
     },
     "metadata": {},
     "output_type": "display_data"
    },
    {
     "data": {
      "text/plain": [
       "0.9398907103825137"
      ]
     },
     "execution_count": 76,
     "metadata": {},
     "output_type": "execute_result"
    }
   ],
   "source": [
    "total_relevance = []\n",
    "for query in tqdm(ground_truth):\n",
    "    question = query['question']\n",
    "    correct_result = query['document']\n",
    "    vector = embedding_model.encode(question)\n",
    "    results = search_engine.search(vector, num_results=5)\n",
    "    relevance = []\n",
    "    for result in results:\n",
    "        relevance.append(result['id'] == correct_result)\n",
    "    total_relevance.append(relevance)\n",
    "hit_rate(total_relevance)"
   ]
  },
  {
   "cell_type": "code",
   "execution_count": 81,
   "id": "3fbc2f17-dc4d-408e-b7b6-cc87329051b8",
   "metadata": {},
   "outputs": [
    {
     "data": {
      "text/plain": [
       "ObjectApiResponse({'acknowledged': True, 'shards_acknowledged': True, 'index': 'course-questions'})"
      ]
     },
     "execution_count": 81,
     "metadata": {},
     "output_type": "execute_result"
    }
   ],
   "source": [
    "from elasticsearch import Elasticsearch\n",
    "\n",
    "es_client = Elasticsearch('http://localhost:9200') \n",
    "\n",
    "index_settings = {\n",
    "    \"settings\": {\n",
    "        \"number_of_shards\": 1,\n",
    "        \"number_of_replicas\": 0\n",
    "    },\n",
    "    \"mappings\": {\n",
    "        \"properties\": {\n",
    "            \"text\": {\"type\": \"text\"},\n",
    "            \"section\": {\"type\": \"text\"},\n",
    "            \"question\": {\"type\": \"text\"},\n",
    "            \"course\": {\"type\": \"keyword\"},\n",
    "            \"id\": {\"type\": \"keyword\"},\n",
    "            \"embedding_vector\": {\n",
    "                \"type\": \"dense_vector\",\n",
    "                \"dims\": 768,\n",
    "                \"index\": True,\n",
    "                \"similarity\": \"cosine\"\n",
    "            },\n",
    "        }\n",
    "    }\n",
    "}\n",
    "\n",
    "index_name = \"course-questions\"\n",
    "\n",
    "es_client.indices.delete(index=index_name, ignore_unavailable=True)\n",
    "es_client.indices.create(index=index_name, body=index_settings)"
   ]
  },
  {
   "cell_type": "code",
   "execution_count": 84,
   "id": "16dbee96-d075-49fc-b975-dc509466b45e",
   "metadata": {},
   "outputs": [
    {
     "data": {
      "application/vnd.jupyter.widget-view+json": {
       "model_id": "dfa077d35dfd4d1c9a23b71419d06f13",
       "version_major": 2,
       "version_minor": 0
      },
      "text/plain": [
       "0it [00:00, ?it/s]"
      ]
     },
     "metadata": {},
     "output_type": "display_data"
    }
   ],
   "source": [
    "for doc, emb in tqdm(zip(filtered_documents, embeddings)):\n",
    "    doc['embedding_vector'] = emb\n",
    "    es_client.index(index=index_name, document=doc)"
   ]
  },
  {
   "cell_type": "code",
   "execution_count": 88,
   "id": "ab7f5eca-86ff-4d8c-8e67-279cc5f00579",
   "metadata": {},
   "outputs": [],
   "source": [
    "def elastic_search_knn(field, search_vector):\n",
    "    knn = {\n",
    "        \"field\": field,\n",
    "        \"query_vector\": search_vector,\n",
    "        \"k\": 5,\n",
    "        \"num_candidates\": 10000,\n",
    "    }\n",
    "\n",
    "    search_query = {\n",
    "        \"knn\": knn,\n",
    "        \"_source\": [\"text\", \"section\", \"course\", \"question\", \"id\"]\n",
    "    }\n",
    "\n",
    "    es_results = es_client.search(\n",
    "        index=index_name,\n",
    "        body=search_query\n",
    "    )\n",
    "    \n",
    "    result_docs = []\n",
    "    \n",
    "    for hit in es_results['hits']['hits']:\n",
    "        result_docs.append(hit['_source'])\n",
    "\n",
    "    return result_docs"
   ]
  },
  {
   "cell_type": "code",
   "execution_count": 92,
   "id": "1505f491-d426-483c-8c4f-2cd678c80243",
   "metadata": {},
   "outputs": [
    {
     "data": {
      "text/plain": [
       "[{'question': 'The course has already started. Can I still join it?',\n",
       "  'course': 'machine-learning-zoomcamp',\n",
       "  'section': 'General course-related questions',\n",
       "  'text': 'Yes, you can. You won’t be able to submit some of the homeworks, but you can still take part in the course.\\nIn order to get a certificate, you need to submit 2 out of 3 course projects and review 3 peers’ Projects by the deadline. It means that if you join the course at the end of November and manage to work on two projects, you will still be eligible for a certificate.',\n",
       "  'id': 'ee58a693'},\n",
       " {'question': 'I just joined. What should I do next? How can I access course materials?',\n",
       "  'course': 'machine-learning-zoomcamp',\n",
       "  'section': 'General course-related questions',\n",
       "  'text': 'Welcome to the course! Go to the course page (http://mlzoomcamp.com/), scroll down and start going through the course materials. Then read everything in the cohort folder for your cohort’s year.\\nClick on the links and start watching the videos. Also watch office hours from previous cohorts. Go to DTC youtube channel and click on Playlists and search for {course yyyy}. ML Zoomcamp was first launched in 2021.\\nOr you can just use this link: http://mlzoomcamp.com/#syllabus',\n",
       "  'id': '0a278fb2'},\n",
       " {'question': \"I filled the form, but haven't received a confirmation email. Is it normal?\",\n",
       "  'course': 'machine-learning-zoomcamp',\n",
       "  'section': 'General course-related questions',\n",
       "  'text': \"The process is automated now, so you should receive the email eventually. If you haven’t, check your promotions tab in Gmail as well as spam.\\nIf you unsubscribed from our newsletter, you won't get course related updates too.\\nBut don't worry, it’s not a problem. To make sure you don’t miss anything, join the #course-ml-zoomcamp channel in Slack and our telegram channel with announcements. This is enough to follow the course.\",\n",
       "  'id': '6ba259b1'},\n",
       " {'question': 'Can I do the course in other languages, like R or Scala?',\n",
       "  'course': 'machine-learning-zoomcamp',\n",
       "  'section': 'Miscellaneous',\n",
       "  'text': 'Technically, yes. Advisable? Not really. Reasons:\\nSome homework(s) asks for specific python library versions.\\nAnswers may not match in MCQ options if using different languages other than Python 3.10 (the recommended version for 2023 cohort)\\nAnd as for midterms/capstones, your peer-reviewers may not know these other languages. Do you want to be penalized for others not knowing these other languages?\\nYou can create a separate repo using course’s lessons but written in other languages for your own learnings, but not advisable for submissions.\\ntx[source]',\n",
       "  'id': '9f261648'},\n",
       " {'question': 'The course videos are from the previous iteration. Will you release new ones or we’ll use the videos from 2021?',\n",
       "  'course': 'machine-learning-zoomcamp',\n",
       "  'section': 'General course-related questions',\n",
       "  'text': 'We won’t re-record the course videos. The focus of the course and the skills we want to teach remained the same, and the videos are still up-to-date.\\nIf you haven’t taken part in the previous iteration, you can start watching the videos. It’ll be useful for you and you will learn new things. However, we recommend using Python 3.10 now instead of Python 3.8.',\n",
       "  'id': 'e7ba6b8a'}]"
      ]
     },
     "execution_count": 92,
     "metadata": {},
     "output_type": "execute_result"
    }
   ],
   "source": [
    "elastic_search_knn('embedding_vector', vector)"
   ]
  },
  {
   "cell_type": "code",
   "execution_count": 87,
   "id": "83387319-e0db-4733-9c5d-3c12735d5227",
   "metadata": {},
   "outputs": [
    {
     "data": {
      "text/plain": [
       "{'text': 'Machine Learning Zoomcamp FAQ\\nThe purpose of this document is to capture frequently asked technical questions.\\nWe did this for our data engineering course and it worked quite well. Check this document for inspiration on how to structure your questions and answers:\\nData Engineering Zoomcamp FAQ\\nIn the course GitHub repository there’s a link. Here it is: https://airtable.com/shryxwLd0COOEaqXo\\nwork',\n",
       " 'section': 'General course-related questions',\n",
       " 'question': 'How do I sign up?',\n",
       " 'course': 'machine-learning-zoomcamp',\n",
       " 'id': '0227b872',\n",
       " 'embedding_vector': array([ 8.80591199e-02,  1.55936535e-02,  7.92557225e-02,  2.52757818e-02,\n",
       "         7.55764544e-02, -3.90596241e-02, -4.13813256e-02,  2.52917185e-02,\n",
       "         2.43241489e-02,  3.62592936e-03, -7.28291878e-03, -3.28750685e-02,\n",
       "         6.12956472e-02, -5.71100786e-02,  1.16774421e-02, -1.79441441e-02,\n",
       "         4.49205451e-02, -5.41606396e-02, -1.92254351e-03,  1.48329567e-02,\n",
       "         7.91349914e-03, -3.43126282e-02,  1.21481447e-02,  1.27186002e-02,\n",
       "        -1.60091035e-02,  7.12126866e-03,  1.58389099e-02, -3.27545597e-04,\n",
       "         3.01291631e-03, -4.58917990e-02, -1.34774158e-03,  2.01150160e-02,\n",
       "         2.33724192e-02, -4.28199815e-03, -3.09383087e-02,  1.94307021e-03,\n",
       "        -1.88219715e-02,  5.35159046e-03,  1.29352538e-02, -3.23959105e-02,\n",
       "         3.10557019e-02,  5.12987794e-03, -3.24482447e-04, -3.15541700e-02,\n",
       "         1.93377398e-02, -6.38601482e-02, -3.05380579e-02, -6.27885237e-02,\n",
       "        -1.74859781e-02,  3.52949165e-02, -2.98071075e-02,  7.45346025e-02,\n",
       "        -2.06181891e-02, -1.79156717e-02,  1.86262708e-02,  5.31013943e-02,\n",
       "         1.19286999e-02, -5.18542863e-02, -1.61926355e-03,  3.58706377e-02,\n",
       "        -6.52321335e-03,  4.53287326e-02, -1.06174471e-02,  1.02415355e-02,\n",
       "        -4.41201292e-02, -7.07985312e-02,  1.33665558e-02, -2.05063112e-02,\n",
       "         3.62042189e-02, -3.39449532e-02,  3.25138941e-02,  2.22204588e-02,\n",
       "        -3.24136987e-02, -3.93159799e-02,  2.75342842e-04,  2.43686028e-02,\n",
       "         1.57890040e-02,  2.50409041e-02,  1.70950801e-03, -2.63251830e-04,\n",
       "         4.40217219e-02, -5.46364561e-02,  2.34349240e-02,  2.99486853e-02,\n",
       "         1.41274696e-02, -2.91330591e-02, -6.47385279e-03, -3.54053415e-02,\n",
       "         1.71306171e-02,  2.90904455e-02,  1.46858208e-02,  8.54325760e-03,\n",
       "        -3.44417356e-02, -1.04836207e-02,  3.15485336e-02, -8.74644741e-02,\n",
       "        -2.11829357e-02, -5.05226888e-02, -7.52343284e-03,  4.42793034e-02,\n",
       "         3.77509929e-02, -1.24981813e-03,  6.45405473e-03, -1.53079489e-02,\n",
       "         1.66407991e-02,  5.46391420e-02,  1.78500786e-02, -7.61287147e-03,\n",
       "        -4.61102687e-02,  4.10020165e-02, -4.52273190e-02, -2.77623236e-02,\n",
       "         1.95287913e-02, -6.11867905e-02,  1.12644099e-02,  5.08547854e-03,\n",
       "         4.85851578e-02, -9.07003134e-03, -9.79345199e-03,  1.72461811e-02,\n",
       "        -7.30904937e-02,  5.36573231e-02, -3.24016362e-02,  1.24105047e-02,\n",
       "         1.06904004e-02,  3.30721140e-02,  4.14839201e-02,  3.38428617e-02,\n",
       "        -1.12890929e-03, -9.08525437e-02,  3.76025098e-03, -3.49574797e-02,\n",
       "         1.31473290e-02,  1.33828297e-02,  3.44474651e-02,  6.85055256e-02,\n",
       "        -1.42454254e-02, -5.42298183e-02, -8.57377145e-03,  2.42687631e-02,\n",
       "         5.15868478e-02, -2.89775971e-02, -1.47677325e-02, -1.08240014e-02,\n",
       "        -5.66393584e-02, -2.07525468e-03, -3.71210538e-02,  4.00516670e-03,\n",
       "        -5.97901605e-02, -1.55888796e-02,  2.72703934e-02,  1.94720421e-02,\n",
       "         1.87415164e-02, -3.74510251e-02,  2.62066647e-02,  7.50286207e-02,\n",
       "         2.16101985e-02, -1.37812812e-02,  5.01988530e-02, -6.47021923e-03,\n",
       "         5.67429550e-02, -4.03868668e-02, -1.20674325e-02,  8.55052844e-02,\n",
       "        -2.71648820e-03,  2.78823432e-02, -4.38817777e-02, -2.82746255e-02,\n",
       "         1.92068275e-02, -4.36237082e-02,  3.98129486e-02, -5.63067682e-02,\n",
       "         1.37331169e-02,  4.01092088e-03, -7.01450650e-03, -1.51920756e-02,\n",
       "         4.40157950e-02,  2.72325873e-02,  3.32807042e-02,  3.21898200e-02,\n",
       "        -8.18991214e-02, -5.92770614e-02,  2.22219918e-02, -2.69076116e-02,\n",
       "         4.15942334e-02, -1.37761291e-02,  4.10629809e-02,  4.05324958e-02,\n",
       "        -5.58695383e-02,  3.60302553e-02, -6.35682745e-03, -1.65046919e-02,\n",
       "        -1.07160688e-03, -7.76119297e-03,  5.12159094e-02, -3.07670441e-02,\n",
       "        -3.98046225e-02,  2.19666865e-02, -9.50633641e-03,  2.66281310e-02,\n",
       "         3.57357822e-02,  5.89500926e-02,  5.54056047e-03, -1.41588144e-03,\n",
       "        -2.31176633e-02,  2.41298019e-03, -2.71170307e-02, -3.01102083e-02,\n",
       "        -1.71694476e-02, -3.58681642e-02, -4.03451398e-02,  2.02254076e-02,\n",
       "         1.31837791e-02, -1.05260024e-02,  1.65335909e-02, -1.22697558e-02,\n",
       "        -3.93679775e-02,  9.12587997e-03, -1.34846251e-02,  2.73655541e-02,\n",
       "         3.88677679e-02, -3.65221500e-03, -2.11339053e-02,  2.25950891e-04,\n",
       "        -3.12622152e-02, -3.47088873e-02, -4.12916318e-02,  2.91098692e-02,\n",
       "         5.44959381e-02, -1.32070050e-01,  9.59284231e-03, -1.37134837e-02,\n",
       "         4.40675467e-02, -1.03825681e-01,  6.36642501e-02,  8.60984530e-03,\n",
       "         1.49037465e-02,  8.22759874e-04, -2.20600702e-02, -9.55864671e-04,\n",
       "        -4.45742713e-04, -1.26143023e-02, -4.75996211e-02, -2.14227140e-02,\n",
       "         4.69316915e-02,  2.59528216e-02, -1.09705077e-02, -1.69420410e-02,\n",
       "         7.51987519e-03, -5.15509956e-02,  4.28996086e-02,  1.28118158e-03,\n",
       "        -1.04663018e-02, -1.64836161e-02, -4.98016141e-02,  4.39343937e-02,\n",
       "         5.84346168e-02, -4.44175601e-02,  6.89994870e-03,  5.39159663e-02,\n",
       "         1.75765902e-02,  7.08561111e-03, -2.18797289e-02, -1.89138949e-03,\n",
       "         1.05513744e-02, -5.98141253e-02, -3.13124470e-02, -2.73169223e-02,\n",
       "         3.12896930e-02,  5.49117029e-02, -1.85728185e-02, -2.15361211e-02,\n",
       "         6.17362894e-02,  7.07533536e-03,  2.01494005e-02, -4.06040773e-02,\n",
       "         2.30052844e-02,  2.01894697e-02,  1.80802811e-02,  3.35160680e-02,\n",
       "        -2.27058772e-02, -5.81536666e-02,  3.04264855e-02, -1.40141584e-02,\n",
       "         2.95397509e-02,  1.17535852e-02, -7.83734024e-02,  2.78971847e-02,\n",
       "        -4.30105850e-02, -7.59009644e-02,  4.92750034e-02,  7.59606734e-02,\n",
       "         3.54483398e-03,  5.81535324e-02,  4.69778813e-02, -4.00014874e-03,\n",
       "        -4.00544098e-03,  2.51615345e-02, -9.95812342e-02,  3.34291719e-02,\n",
       "        -3.01806466e-03,  3.01541444e-02,  4.54931483e-02, -7.25228786e-02,\n",
       "         4.01626527e-02, -1.16757751e-02, -6.19701575e-03, -9.54162553e-02,\n",
       "        -3.01121604e-02, -2.74964310e-02, -4.44819443e-02,  1.52518705e-03,\n",
       "        -6.31316677e-02, -8.02880824e-02,  4.55777198e-02,  3.08043789e-02,\n",
       "        -4.65143798e-03, -2.48236954e-03, -1.87035296e-02,  3.56814675e-02,\n",
       "        -8.61485824e-02, -8.76668096e-03,  5.94234206e-02,  7.03033209e-02,\n",
       "        -3.35510145e-03,  3.14285308e-02,  3.35557647e-02,  4.47359383e-02,\n",
       "        -1.82780959e-02,  4.33740998e-03, -1.56071763e-02,  4.82698344e-02,\n",
       "         5.78110255e-02, -1.55572710e-03, -3.07916403e-02,  3.06997821e-02,\n",
       "         3.05095818e-02,  4.37345169e-02, -2.46432386e-02, -1.98744722e-02,\n",
       "         7.25643290e-03,  3.61755863e-02, -1.86708923e-02, -1.69780757e-02,\n",
       "         5.28292879e-02,  1.72068190e-03,  3.34721543e-02, -6.57697544e-02,\n",
       "        -3.20816785e-02,  4.12169984e-03,  8.29515699e-03, -4.56411988e-02,\n",
       "         3.20224613e-02, -2.28898097e-02,  5.52555919e-02,  4.02579159e-02,\n",
       "        -2.90956926e-02, -3.44282878e-03, -1.38216997e-02, -6.28975977e-04,\n",
       "         2.53444817e-02,  1.89793780e-02, -4.45093364e-02, -4.78352085e-02,\n",
       "         3.22866403e-02,  6.68825135e-02, -8.67469609e-03, -7.80021679e-03,\n",
       "         2.92882998e-03, -2.42292266e-02, -2.09649783e-02, -1.09208867e-01,\n",
       "        -2.94363815e-02,  1.47712044e-02, -4.47422490e-02, -2.71010790e-02,\n",
       "        -3.91129917e-03,  1.68100726e-02,  3.11841499e-02,  1.24178315e-02,\n",
       "         6.59740623e-03, -4.44685761e-03, -3.45145166e-02, -1.24456454e-03,\n",
       "         5.61033227e-02, -4.12151739e-02,  4.74843495e-02,  3.92920710e-02,\n",
       "        -5.78539297e-02, -4.47588563e-02,  1.95152722e-02,  3.01112439e-02,\n",
       "        -8.72345734e-03, -2.85054706e-02, -7.27258436e-03,  3.58912610e-02,\n",
       "        -7.09610060e-02, -6.56752661e-02,  5.03809191e-03,  2.90020760e-02,\n",
       "         4.08622669e-03,  7.97063299e-03, -2.29643993e-02, -4.41171713e-02,\n",
       "         4.12212275e-02,  2.17065625e-02,  1.23130223e-02, -1.74234416e-02,\n",
       "        -1.55699905e-02, -1.17438706e-02,  5.18719740e-02,  3.44446651e-03,\n",
       "        -6.66775480e-02,  3.35143581e-02, -4.39762417e-03, -3.66432890e-02,\n",
       "         7.48344287e-02,  1.37543855e-02, -5.05723134e-02, -1.69508532e-02,\n",
       "        -9.13899392e-02,  3.94618623e-02, -4.91534323e-02,  2.32399534e-02,\n",
       "        -6.95742760e-03, -2.49377154e-02,  1.79813839e-02, -3.91750745e-02,\n",
       "         2.72794571e-02,  5.39086796e-02,  6.70256689e-02,  2.87339892e-02,\n",
       "         7.15200696e-03,  4.48691957e-02, -2.89589651e-02,  2.67862231e-02,\n",
       "         6.71392828e-02, -3.71890911e-03, -2.13471130e-02,  4.02928255e-02,\n",
       "         5.37431389e-02,  2.69311643e-03,  3.33234891e-02,  4.19459976e-02,\n",
       "         3.77102010e-02,  1.00907516e-02,  1.64033789e-02,  1.37284454e-02,\n",
       "         4.92302664e-02,  5.35364412e-02,  5.79526238e-02, -3.29138562e-02,\n",
       "         1.22460024e-02,  2.88262293e-02, -4.93662618e-03,  2.96172295e-02,\n",
       "         6.32616784e-03, -4.79912460e-02, -3.14916074e-02, -3.97242457e-02,\n",
       "        -3.50666083e-02,  2.99800024e-03, -9.44069587e-03,  2.62562768e-03,\n",
       "         9.90505423e-03, -5.18645458e-02,  2.04040240e-02,  3.75541523e-02,\n",
       "         8.65953974e-03,  3.73829119e-02,  2.54471991e-02, -1.32634835e-02,\n",
       "         8.06264132e-02,  2.10315660e-02, -1.99040063e-02, -1.00638838e-02,\n",
       "        -3.93788889e-02, -3.32228281e-02,  1.41281802e-02,  4.00279164e-02,\n",
       "        -7.60365883e-03, -4.89356890e-02, -2.67796926e-02, -5.59408069e-02,\n",
       "         3.21788564e-02,  8.22695903e-03,  3.76135632e-02,  8.17608275e-03,\n",
       "        -1.37847327e-02, -2.16961186e-02,  1.27260964e-02, -6.38867263e-03,\n",
       "        -8.46950430e-03, -6.06382266e-03, -1.16485273e-02,  1.15114190e-02,\n",
       "         2.72040293e-02, -1.29375495e-02, -1.30014885e-02,  3.71455252e-02,\n",
       "         2.18766481e-02,  2.41832342e-02,  3.43345833e-04, -1.44565413e-02,\n",
       "         3.24437879e-02,  5.78670017e-02,  1.25015657e-02,  1.83984693e-02,\n",
       "        -7.32085407e-02, -1.24306725e-02, -1.85831282e-02, -2.32733227e-03,\n",
       "         1.47508364e-02,  1.19953500e-02, -2.08625570e-03, -2.90985256e-02,\n",
       "         3.42257466e-04, -2.48183552e-02, -2.78204009e-02, -3.26300506e-03,\n",
       "        -1.13068130e-02, -3.82189751e-02, -8.83377567e-02, -2.67932862e-02,\n",
       "        -4.97603044e-02,  1.06249098e-02, -2.03507338e-02,  4.61896807e-02,\n",
       "         3.04142367e-02,  7.39258826e-02, -1.93728376e-02, -6.24436513e-02,\n",
       "        -4.30182591e-02, -2.44437391e-03,  2.31976416e-02,  2.40072254e-02,\n",
       "        -6.32213205e-02, -1.28707625e-02, -1.06628593e-02, -1.21628242e-02,\n",
       "         4.63576838e-02,  8.66863504e-03, -3.91135886e-02,  5.18058240e-03,\n",
       "        -3.37269157e-02,  4.08053175e-02,  4.56020907e-02, -5.35723567e-03,\n",
       "         1.47816660e-02,  6.52767858e-03, -1.91998724e-02,  1.32418703e-02,\n",
       "         1.28353005e-02,  3.14029381e-02,  2.19753105e-02, -1.87768191e-02,\n",
       "         9.01834574e-03,  1.66758895e-02,  1.36972673e-03,  4.85402010e-02,\n",
       "        -5.04996292e-02,  2.72835791e-02, -2.80787121e-03,  8.74804799e-03,\n",
       "         2.16660574e-02,  1.66531801e-02, -4.64340299e-02, -1.94113012e-02,\n",
       "         1.49265174e-02, -2.04602554e-02, -9.30299908e-02, -3.57575039e-03,\n",
       "         4.36928310e-02,  4.18228656e-02, -1.04740737e-02,  9.13387816e-03,\n",
       "        -1.26577811e-02,  9.28763824e-04,  3.03165466e-02,  9.25373659e-03,\n",
       "        -1.58134103e-03,  6.60841465e-02,  1.97660122e-02, -3.60444859e-02,\n",
       "        -3.43118003e-03, -3.59756239e-02,  1.49511639e-02, -2.88110022e-02,\n",
       "         1.71100758e-02,  4.95877862e-02,  3.53193320e-02,  4.19225693e-02,\n",
       "         4.83730622e-02,  1.96335595e-02, -1.70032366e-03,  9.81865823e-02,\n",
       "         1.77093651e-02, -3.84569191e-03, -4.52681780e-02, -4.13470902e-03,\n",
       "        -5.71960285e-02,  1.04758926e-02,  1.73035674e-02,  4.14520986e-02,\n",
       "         1.68829784e-02, -1.23576019e-02, -1.35784606e-02,  6.87891245e-02,\n",
       "         1.86709277e-02,  5.50276116e-02,  2.71759089e-02, -3.02900430e-02,\n",
       "         4.20797542e-02,  3.58546339e-02, -7.05273077e-02,  8.97799525e-03,\n",
       "         3.04064602e-02, -4.93473280e-03, -3.86132300e-02, -6.36184812e-02,\n",
       "        -1.28050102e-02,  1.45554645e-02, -3.86997126e-02, -1.90096069e-02,\n",
       "        -4.16539535e-02, -5.53316101e-02,  3.14245652e-03, -4.05709222e-02,\n",
       "        -4.65665478e-03,  1.20833823e-02,  3.92554179e-02, -1.48489252e-02,\n",
       "        -4.43879217e-02, -1.95001848e-02, -2.00037602e-02, -3.84879708e-02,\n",
       "         6.50727302e-02,  1.58442301e-03,  2.42224112e-02,  2.11767331e-02,\n",
       "        -2.80457046e-02,  5.06495610e-02, -3.17925178e-02, -3.93060520e-02,\n",
       "        -7.48628452e-02, -1.47938440e-02,  2.93559278e-03, -1.90874550e-03,\n",
       "        -4.62152809e-02,  2.79245581e-02,  5.36212474e-02,  5.08887284e-02,\n",
       "        -3.63443568e-02,  4.83042896e-02,  2.08878312e-02,  4.74292673e-02,\n",
       "         4.92653996e-03, -2.71410365e-02,  5.47686070e-02, -4.14409600e-02,\n",
       "        -5.68517344e-03, -3.04766353e-02,  3.94581351e-03, -3.12195309e-02,\n",
       "        -4.37382832e-02,  2.12003812e-02, -1.80494189e-02,  2.81701591e-02,\n",
       "         3.96551676e-02, -5.35950698e-02,  5.33269383e-02,  7.67339068e-03,\n",
       "        -2.33186614e-02, -1.42170312e-02,  5.31647876e-02, -3.49746905e-02,\n",
       "         6.54082224e-02,  4.37313691e-02, -7.25451559e-02,  4.89383489e-02,\n",
       "        -9.12466273e-03,  4.59331498e-02, -3.46430503e-02, -2.72385888e-02,\n",
       "        -3.04771010e-02, -4.05410491e-02,  5.07943928e-02,  2.39162222e-02,\n",
       "        -4.21276726e-02, -7.53406957e-02, -6.37009434e-05,  2.31820419e-02,\n",
       "         2.98202094e-02, -4.67951410e-02,  1.05024669e-02, -8.33895057e-03,\n",
       "        -2.53908746e-02, -2.78920238e-03, -5.80482408e-02, -3.58988456e-02,\n",
       "         1.04233641e-02, -3.31454314e-02, -2.29871012e-02,  1.90615151e-02,\n",
       "        -4.05620448e-02,  3.41111422e-03,  1.07715866e-02,  5.10822423e-02,\n",
       "        -3.88364308e-02, -3.84783782e-02,  4.38733697e-02, -3.46119106e-02,\n",
       "         1.73041485e-02,  1.62715875e-02,  2.14489587e-02, -2.26182062e-02,\n",
       "        -1.69365387e-02,  2.30085663e-02,  2.55132616e-02,  8.10869783e-02,\n",
       "         5.52572943e-02,  1.81327388e-02,  2.32690442e-02,  7.37191364e-02,\n",
       "        -2.53651626e-02,  1.41270943e-02,  7.17906374e-03,  4.39647920e-02,\n",
       "        -1.27545567e-02,  2.30465923e-02,  3.01264133e-02, -7.24173523e-03,\n",
       "         3.82401682e-02,  5.56619838e-02, -6.76997602e-02, -2.43170224e-02,\n",
       "        -1.17053157e-02, -1.58955585e-02,  4.49812487e-02, -5.12633510e-02,\n",
       "         2.38025710e-02,  3.47883515e-02, -3.94905768e-02, -3.04278564e-02,\n",
       "         3.11546829e-02, -2.13786270e-02,  3.09259519e-02,  1.42324343e-02,\n",
       "        -6.56462163e-02,  1.46022001e-02,  3.42595857e-03,  4.44190130e-02,\n",
       "         2.20304937e-03, -1.86534058e-02,  1.99845154e-02, -5.16026020e-02,\n",
       "        -4.81741540e-02,  1.30593758e-02,  1.76973660e-02, -1.19784754e-02,\n",
       "        -9.83288791e-03, -7.01445118e-02, -6.58488125e-02,  6.75936639e-02,\n",
       "        -2.80170459e-02,  7.45123858e-03,  2.41919304e-03,  1.14713125e-02],\n",
       "       dtype=float32)}"
      ]
     },
     "execution_count": 87,
     "metadata": {},
     "output_type": "execute_result"
    }
   ],
   "source": [
    "filtered_documents[0]"
   ]
  },
  {
   "cell_type": "code",
   "execution_count": null,
   "id": "655d7756-9d55-4b6f-8dd5-b9c277e648fb",
   "metadata": {},
   "outputs": [],
   "source": []
  }
 ],
 "metadata": {
  "kernelspec": {
   "display_name": "Python 3 (ipykernel)",
   "language": "python",
   "name": "python3"
  },
  "language_info": {
   "codemirror_mode": {
    "name": "ipython",
    "version": 3
   },
   "file_extension": ".py",
   "mimetype": "text/x-python",
   "name": "python",
   "nbconvert_exporter": "python",
   "pygments_lexer": "ipython3",
   "version": "3.9.16"
  }
 },
 "nbformat": 4,
 "nbformat_minor": 5
}
