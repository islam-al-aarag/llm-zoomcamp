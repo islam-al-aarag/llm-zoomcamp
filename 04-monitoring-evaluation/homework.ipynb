{
 "cells": [
  {
   "cell_type": "code",
   "execution_count": 2,
   "id": "543bfc27-5364-4590-8fb0-4065dc0a0192",
   "metadata": {
    "collapsed": true,
    "jupyter": {
     "outputs_hidden": true
    }
   },
   "outputs": [],
   "source": [
    "import pandas as pd"
   ]
  },
  {
   "cell_type": "code",
   "execution_count": 3,
   "id": "7c176884-587b-4b2c-b220-8c04f2fb2199",
   "metadata": {
    "collapsed": true,
    "jupyter": {
     "outputs_hidden": true
    }
   },
   "outputs": [],
   "source": [
    "github_url = 'https://github.com/DataTalksClub/llm-zoomcamp/blob/main/04-monitoring/data/results-gpt4o-mini.csv'\n",
    "url = f'{github_url}?raw=1'\n",
    "df = pd.read_csv(url)\n",
    "df = df.iloc[:300]"
   ]
  },
  {
   "cell_type": "code",
   "execution_count": 4,
   "id": "8cc8b105-065d-43ba-8bf8-af4f877b5fa1",
   "metadata": {
    "collapsed": true,
    "jupyter": {
     "outputs_hidden": true
    }
   },
   "outputs": [
    {
     "data": {
      "application/vnd.jupyter.widget-view+json": {
       "model_id": "1c18af9afefc477780776550a713b34c",
       "version_major": 2,
       "version_minor": 0
      },
      "text/plain": [
       "modules.json:   0%|          | 0.00/229 [00:00<?, ?B/s]"
      ]
     },
     "metadata": {},
     "output_type": "display_data"
    },
    {
     "data": {
      "application/vnd.jupyter.widget-view+json": {
       "model_id": "bf4be726cfcb4be48cafacb634596756",
       "version_major": 2,
       "version_minor": 0
      },
      "text/plain": [
       "config_sentence_transformers.json:   0%|          | 0.00/212 [00:00<?, ?B/s]"
      ]
     },
     "metadata": {},
     "output_type": "display_data"
    },
    {
     "name": "stderr",
     "output_type": "stream",
     "text": [
      "You try to use a model that was created with version 3.0.0.dev0, however, your version is 2.7.0. This might cause unexpected behavior or errors. In that case, try to update to the latest version.\n",
      "\n",
      "\n",
      "\n"
     ]
    },
    {
     "data": {
      "application/vnd.jupyter.widget-view+json": {
       "model_id": "39dee213094a4b75a145144439001912",
       "version_major": 2,
       "version_minor": 0
      },
      "text/plain": [
       "README.md:   0%|          | 0.00/8.71k [00:00<?, ?B/s]"
      ]
     },
     "metadata": {},
     "output_type": "display_data"
    },
    {
     "data": {
      "application/vnd.jupyter.widget-view+json": {
       "model_id": "bca41b94c3a1421cbd45ef40b4b0bc5e",
       "version_major": 2,
       "version_minor": 0
      },
      "text/plain": [
       "sentence_bert_config.json:   0%|          | 0.00/53.0 [00:00<?, ?B/s]"
      ]
     },
     "metadata": {},
     "output_type": "display_data"
    },
    {
     "data": {
      "application/vnd.jupyter.widget-view+json": {
       "model_id": "dfd828b8925c40c282dad0e399805332",
       "version_major": 2,
       "version_minor": 0
      },
      "text/plain": [
       "config.json:   0%|          | 0.00/571 [00:00<?, ?B/s]"
      ]
     },
     "metadata": {},
     "output_type": "display_data"
    },
    {
     "data": {
      "application/vnd.jupyter.widget-view+json": {
       "model_id": "b90f26cc22f441c69149d2d6f86886a8",
       "version_major": 2,
       "version_minor": 0
      },
      "text/plain": [
       "model.safetensors:   0%|          | 0.00/438M [00:00<?, ?B/s]"
      ]
     },
     "metadata": {},
     "output_type": "display_data"
    },
    {
     "data": {
      "application/vnd.jupyter.widget-view+json": {
       "model_id": "5b0fa513230c407ab5bcc800afc63914",
       "version_major": 2,
       "version_minor": 0
      },
      "text/plain": [
       "tokenizer_config.json:   0%|          | 0.00/363 [00:00<?, ?B/s]"
      ]
     },
     "metadata": {},
     "output_type": "display_data"
    },
    {
     "data": {
      "application/vnd.jupyter.widget-view+json": {
       "model_id": "485da9fd9cfb45caa06c4abb0fbb356f",
       "version_major": 2,
       "version_minor": 0
      },
      "text/plain": [
       "vocab.txt:   0%|          | 0.00/232k [00:00<?, ?B/s]"
      ]
     },
     "metadata": {},
     "output_type": "display_data"
    },
    {
     "data": {
      "application/vnd.jupyter.widget-view+json": {
       "model_id": "a48f7bffedec4b63ab855011d8957b12",
       "version_major": 2,
       "version_minor": 0
      },
      "text/plain": [
       "tokenizer.json:   0%|          | 0.00/466k [00:00<?, ?B/s]"
      ]
     },
     "metadata": {},
     "output_type": "display_data"
    },
    {
     "data": {
      "application/vnd.jupyter.widget-view+json": {
       "model_id": "ceeeae7ba0ec45228bac331a6cbd220b",
       "version_major": 2,
       "version_minor": 0
      },
      "text/plain": [
       "special_tokens_map.json:   0%|          | 0.00/239 [00:00<?, ?B/s]"
      ]
     },
     "metadata": {},
     "output_type": "display_data"
    },
    {
     "data": {
      "application/vnd.jupyter.widget-view+json": {
       "model_id": "ebac0544e2f7494388cad46d95209aec",
       "version_major": 2,
       "version_minor": 0
      },
      "text/plain": [
       "1_Pooling/config.json:   0%|          | 0.00/190 [00:00<?, ?B/s]"
      ]
     },
     "metadata": {},
     "output_type": "display_data"
    }
   ],
   "source": [
    "from sentence_transformers import SentenceTransformer\n",
    "model_name = 'multi-qa-mpnet-base-dot-v1'\n",
    "embedding_model = SentenceTransformer(model_name)"
   ]
  },
  {
   "cell_type": "code",
   "execution_count": 5,
   "id": "e9532ba7-619b-4727-b6d3-100bda12c8ad",
   "metadata": {
    "collapsed": true,
    "jupyter": {
     "outputs_hidden": true
    }
   },
   "outputs": [],
   "source": [
    "answer_llm = df.iloc[0].answer_llm"
   ]
  },
  {
   "cell_type": "code",
   "execution_count": 7,
   "id": "89b3ad00-5de3-4095-86ad-20133f9130ae",
   "metadata": {
    "collapsed": true,
    "jupyter": {
     "outputs_hidden": true
    }
   },
   "outputs": [
    {
     "data": {
      "text/plain": [
       "array([-4.22446579e-01, -2.24855691e-01, -3.24058741e-01, -2.84758866e-01,\n",
       "        7.25708902e-03,  1.01186641e-01,  1.03716828e-01, -1.89983517e-01,\n",
       "       -2.80596483e-02,  2.71588504e-01, -1.15337148e-01,  1.14666402e-01,\n",
       "       -8.49587694e-02,  3.32365334e-01,  5.52724376e-02, -2.22195536e-01,\n",
       "       -1.42540991e-01,  1.02519184e-01, -1.52333423e-01, -2.02912375e-01,\n",
       "        1.98422819e-02,  8.38149786e-02, -5.68631887e-01,  2.32843235e-02,\n",
       "       -1.67292640e-01, -2.39256412e-01, -8.05465057e-02,  2.57083327e-02,\n",
       "       -8.15466121e-02, -7.39289969e-02, -2.61550128e-01,  1.92576181e-02,\n",
       "        3.22909296e-01,  1.90357268e-01, -9.34726486e-05, -2.13165566e-01,\n",
       "        2.88943667e-02, -1.79528147e-02, -5.92762418e-02,  1.99918032e-01,\n",
       "       -4.75170687e-02,  1.71633765e-01, -2.45915428e-02, -9.38056633e-02,\n",
       "       -3.57002944e-01,  1.33263484e-01,  1.94045842e-01, -1.18530914e-01,\n",
       "        4.56915259e-01,  1.47728145e-01,  3.35945159e-01, -1.86959863e-01,\n",
       "        2.45954141e-01, -1.07774377e-01, -1.80859715e-01,  1.18172057e-01,\n",
       "        7.27292970e-02,  2.78034121e-01,  4.16389018e-01, -1.66038439e-01,\n",
       "       -1.28587574e-01,  3.40979397e-01, -5.31824790e-02,  2.86052041e-02,\n",
       "        2.70212859e-01,  1.59815848e-02,  5.30229509e-01, -4.24391299e-01,\n",
       "        4.41500843e-02,  1.12921789e-01,  5.93987703e-01,  1.31700933e-01,\n",
       "        7.96347205e-03, -9.32338834e-03,  2.07377136e-01,  9.57207233e-02,\n",
       "       -1.83128148e-01,  1.22415923e-01, -2.01750085e-01,  3.12428653e-01,\n",
       "       -5.54993153e-02, -2.87764281e-01, -1.73390567e-01,  1.55470937e-01,\n",
       "        1.19511262e-02,  3.49036723e-01, -8.38189870e-02, -1.50645584e-01,\n",
       "        5.33230640e-02, -1.06787875e-01,  1.13244645e-01,  3.14916313e-01,\n",
       "       -2.95627862e-03,  4.66762662e-01, -1.56012788e-01, -3.61533672e-01,\n",
       "        3.31574045e-02,  2.06269324e-01, -1.06713608e-01, -5.01033217e-02,\n",
       "        1.83970198e-01, -1.39952973e-02,  2.16501340e-01,  1.41000330e-01,\n",
       "        1.90432206e-01, -3.77752930e-01,  8.65837932e-02, -9.80307236e-02,\n",
       "        2.32716024e-01,  2.01486107e-02, -9.70338434e-02,  1.01333387e-01,\n",
       "       -1.72074795e-01, -1.49902299e-01, -2.79157132e-01,  4.38268960e-01,\n",
       "       -1.79244071e-01, -5.75874932e-02, -7.84668922e-02, -3.23518097e-01,\n",
       "       -2.88021326e-01,  1.18698619e-01,  8.74241292e-02,  2.05323249e-01,\n",
       "       -4.80112471e-02, -5.71197569e-02, -2.83935219e-02, -3.82449180e-02,\n",
       "       -2.26607949e-01, -6.20821081e-02, -8.28166604e-02,  3.57217103e-01,\n",
       "       -1.73984110e-01, -2.00290754e-01,  2.40434065e-01,  2.16891512e-01,\n",
       "       -6.78273812e-02,  1.77686170e-01, -7.99803436e-03,  2.68137366e-01,\n",
       "        1.61456034e-01,  3.94612312e-01,  8.85779709e-02,  2.40580827e-01,\n",
       "       -2.59239599e-03, -3.16258192e-01, -2.44215086e-01,  3.14837635e-01,\n",
       "       -1.19753413e-01,  2.73651741e-02, -1.63026780e-01, -1.62029117e-02,\n",
       "       -3.58386710e-02,  3.33115906e-01,  5.83249569e-01, -2.79058099e-01,\n",
       "        4.58128810e-01,  4.30684716e-01, -9.04695615e-02, -9.46647376e-02,\n",
       "       -4.69529554e-02,  1.82061493e-01,  1.93517774e-01, -5.74657843e-02,\n",
       "        5.64568415e-02,  6.01408929e-02, -2.71578282e-01,  3.31837386e-02,\n",
       "       -2.93490440e-01,  8.48193765e-02,  1.16655186e-01, -3.32126953e-02,\n",
       "       -9.28957760e-02,  8.89664218e-02,  4.50665317e-03, -1.12345323e-01,\n",
       "        2.86366761e-01, -4.58183050e-01,  2.24826217e-01, -1.59530953e-01,\n",
       "       -3.91897149e-02, -4.82417613e-01,  2.00283647e-01,  5.05796075e-02,\n",
       "       -7.37683624e-02, -2.89322753e-02,  5.19144386e-02,  2.53143996e-01,\n",
       "       -1.18403718e-01, -3.78675759e-05, -1.42499432e-03,  8.79564360e-02,\n",
       "       -1.54602244e-01,  1.39947519e-01, -1.63175911e-01, -2.27564842e-01,\n",
       "        2.43589357e-02,  1.83513597e-01,  2.09395856e-01,  6.44858554e-03,\n",
       "       -1.67488858e-01,  2.13646740e-01, -9.41737145e-02, -1.58160254e-02,\n",
       "       -8.20814148e-02, -1.83308661e-01,  2.60267973e-01, -5.81486881e-01,\n",
       "       -1.88392952e-01,  4.93148774e-01,  1.71536922e-01, -1.94944009e-01,\n",
       "       -2.98343599e-02, -1.10752091e-01,  1.75625920e-01, -2.15448886e-01,\n",
       "        3.90823424e-01, -4.05415893e-04,  1.63337827e-01, -1.30663723e-01,\n",
       "       -1.60531685e-01, -1.78250596e-01,  1.44645914e-01, -5.53421713e-02,\n",
       "       -2.84335017e-01, -2.52671659e-01, -2.86734819e-01,  7.28118494e-02,\n",
       "        1.01622641e-01,  2.40730166e-01,  2.70243168e-01, -2.02045754e-01,\n",
       "        3.18084240e-01,  2.44049609e-01, -1.42584383e-01,  8.29214603e-02,\n",
       "        4.85367104e-02,  2.96781063e-01,  4.12520856e-01, -3.14379036e-01,\n",
       "       -1.16970085e-01,  6.29203767e-02,  7.08069056e-02,  2.58253336e-01,\n",
       "       -1.14309713e-02,  4.45277512e-01,  1.21435553e-01, -1.32653773e-01,\n",
       "       -7.34771341e-02,  1.45819172e-01,  8.71954411e-02,  3.29193361e-02,\n",
       "       -1.06550388e-01,  1.32414907e-01,  5.37194647e-02,  1.55813321e-01,\n",
       "       -3.02492715e-02, -1.43763989e-01, -2.87022412e-01,  2.91072071e-01,\n",
       "        1.64530039e-01, -1.11769632e-01,  2.36827195e-01, -3.21419686e-01,\n",
       "       -1.66114330e-01, -1.28119476e-02,  3.42823118e-01, -1.29733771e-01,\n",
       "       -8.64385068e-02,  8.01280886e-02,  2.09743500e-01, -1.31370544e-01,\n",
       "       -4.56720144e-01, -2.07562536e-01,  2.11608708e-01, -1.06122941e-01,\n",
       "       -7.91287050e-02, -1.07585780e-01, -3.71914864e-01, -7.27088526e-02,\n",
       "       -1.18880928e-01, -8.83408636e-02, -1.14614228e-02, -1.38135493e-01,\n",
       "       -2.01837197e-01, -4.67053354e-02, -9.99320745e-02, -2.49767512e-01,\n",
       "        2.34004095e-01, -3.08610916e-01,  5.94542921e-02, -1.53505236e-01,\n",
       "        2.65017748e-01,  3.01956013e-03, -1.05429098e-01,  1.93159759e-01,\n",
       "        3.11239868e-01,  3.94329965e-01, -1.93252526e-02,  4.99086112e-01,\n",
       "        1.55237466e-02, -1.99357778e-01,  5.28536737e-04,  4.31942165e-01,\n",
       "        7.14816432e-03, -1.23076186e-01,  8.09209235e-03, -1.80045500e-01,\n",
       "        6.30189665e-03, -3.00483759e-02, -3.72297049e-01,  1.83589697e-01,\n",
       "        2.57175684e-01, -1.55412257e-01,  1.24235541e-01,  1.37525320e-01,\n",
       "       -1.35490716e-01,  3.29677723e-02, -9.26110074e-02, -5.65364778e-01,\n",
       "        2.80107092e-02, -2.07516644e-02, -1.69507101e-01, -2.20879555e-01,\n",
       "       -2.19279170e-01, -2.83492208e-01, -4.83235896e-01, -3.42599571e-01,\n",
       "       -9.17721242e-02,  2.96830297e-01, -5.98631054e-03,  6.14563674e-02,\n",
       "       -1.05392545e-01,  1.58028334e-01,  4.33735512e-02,  2.40767211e-01,\n",
       "       -3.02058876e-01, -2.03180447e-01,  3.31530184e-01, -3.77642125e-01,\n",
       "       -2.81263500e-01,  1.91836283e-01, -1.27187744e-01,  1.78841650e-01,\n",
       "       -2.64506459e-01,  1.23101100e-02, -1.61026895e-01,  1.34970322e-01,\n",
       "       -8.89989287e-02, -4.67516407e-02,  4.90023583e-01,  7.38454089e-02,\n",
       "       -1.30986869e-01, -3.05827200e-01, -1.67545289e-01,  1.94468230e-01,\n",
       "        1.63925350e-01,  1.95639253e-01,  2.50460386e-01, -4.28531110e-01,\n",
       "        3.45145538e-03, -2.58735746e-01,  5.29080689e-01, -3.74270082e-01,\n",
       "        1.52396038e-01, -1.04267612e-01,  5.28326258e-02,  6.97045699e-02,\n",
       "        3.10416251e-01,  1.34908959e-01, -1.46409750e-01,  8.79697800e-02,\n",
       "       -2.16057360e-01, -5.98222017e-03,  1.46351695e-01,  1.00754842e-01,\n",
       "       -3.56721491e-01,  2.37128764e-01, -2.08308280e-01, -1.37767747e-01,\n",
       "        1.87475055e-01, -1.37022093e-01,  1.79654628e-01,  9.50283259e-02,\n",
       "        3.05512905e-01, -2.35082023e-03, -5.99397607e-02,  3.43031198e-01,\n",
       "        2.22358733e-01,  3.86910886e-01, -4.61394787e-02, -5.23233354e-01,\n",
       "       -1.88939303e-01, -3.29890177e-02,  1.58315867e-01, -6.72145486e-02,\n",
       "        1.70431092e-01, -1.60779983e-01, -1.32888436e-01,  1.94981635e-01,\n",
       "       -7.49424621e-02,  1.33112445e-01, -3.46188247e-02, -3.98087353e-02,\n",
       "        1.55842647e-01,  7.61215165e-02,  6.12082705e-02,  1.30054235e-01,\n",
       "       -4.20598656e-01, -8.50356296e-02,  7.93768317e-02,  1.17576808e-01,\n",
       "        1.19344369e-02, -8.69062077e-03,  1.18011564e-01, -3.85569781e-01,\n",
       "       -1.99203834e-01,  3.17576200e-01,  6.12185933e-02, -1.49612173e-01,\n",
       "       -8.59778151e-02, -3.21720466e-02,  1.85915276e-01, -1.35080725e-01,\n",
       "        3.26779842e-01,  1.11499473e-01,  2.00125247e-01, -1.81169987e-01,\n",
       "        9.46161896e-03,  2.59241641e-01, -8.62894505e-02,  1.24218337e-01,\n",
       "       -2.26191953e-01,  1.87308222e-01, -6.76104724e-02,  1.09886877e-01,\n",
       "        7.81964809e-02,  1.59898981e-01,  4.34802286e-02,  3.77582312e-01,\n",
       "        2.00296417e-02,  3.12313139e-01,  3.17892551e-01,  3.18765081e-02,\n",
       "        1.84716642e-01,  1.02976769e-01, -1.29829794e-02, -5.33965647e-01,\n",
       "       -4.15471429e-03, -9.74932984e-02,  2.92788059e-01, -1.68569628e-02,\n",
       "       -3.65061551e-01,  2.62162805e-01, -1.99976578e-01, -1.79652095e-01,\n",
       "       -6.74351975e-02, -7.36469030e-02,  7.99772795e-03, -8.52294564e-02,\n",
       "        3.02016109e-01,  7.65381515e-01,  1.86538070e-01,  9.91610587e-02,\n",
       "       -3.15703563e-02, -2.39601582e-01,  3.49765748e-01, -3.79434288e-01,\n",
       "        4.37371194e-01, -3.03045094e-01,  3.50986719e-02, -1.36654386e-02,\n",
       "       -3.92119065e-02,  1.74251288e-01,  2.19215646e-01,  3.65048684e-02,\n",
       "        1.70672983e-01,  1.96939304e-01, -1.31071076e-01, -4.28889692e-02,\n",
       "        1.75453410e-01, -4.72445115e-02,  6.98640645e-02,  3.11694182e-02,\n",
       "        3.22514415e-01,  4.49009120e-01,  1.86776489e-01, -1.16198286e-02,\n",
       "       -1.47021502e-01, -2.00406358e-01,  7.67495781e-02, -1.27667785e-01,\n",
       "       -6.29129261e-02, -4.80403900e-01,  1.54105306e-01, -9.61347669e-02,\n",
       "       -2.31545061e-01,  3.21783461e-02, -2.23329067e-01, -9.49471444e-03,\n",
       "        1.23602182e-01, -1.67446494e-01,  2.84746349e-01,  1.42773762e-02,\n",
       "       -2.71190912e-01, -3.30283672e-01,  3.32764089e-01,  1.96248293e-01,\n",
       "       -2.55561173e-01,  1.17187418e-01,  4.77881253e-01, -4.56432626e-02,\n",
       "       -1.86917424e-01, -2.67586648e-01,  1.55057520e-01,  4.42823291e-01,\n",
       "        3.23591590e-01,  2.25059018e-01,  4.15325388e-02, -2.00824678e-01,\n",
       "        1.77915409e-01,  3.05669039e-01,  2.31600508e-01, -3.19246560e-01,\n",
       "       -1.18139528e-01,  1.34351537e-01,  2.80499667e-01, -2.21151575e-01,\n",
       "        5.30990995e-02,  1.29903466e-01,  6.53693825e-02, -1.18017867e-02,\n",
       "        6.73175156e-02,  8.00406635e-02, -5.13182580e-01, -5.82335368e-02,\n",
       "        6.54615760e-02,  2.76209235e-01, -1.83692649e-02,  2.94542074e-01,\n",
       "       -3.07799041e-01,  1.83834076e-01,  1.59030795e-01,  4.07141984e-01,\n",
       "       -1.66562885e-01, -4.79783088e-01, -2.10012108e-01, -4.13605332e-01,\n",
       "        5.92362657e-02,  1.54404074e-01,  6.57934695e-04,  2.10360795e-01,\n",
       "        2.83089638e-01,  3.63211840e-01,  1.09330416e-01, -5.22614717e-01,\n",
       "       -1.22006901e-01,  1.48910712e-02,  8.16329271e-02,  9.79123414e-02,\n",
       "       -1.71466351e-01, -1.19786084e-01,  3.07114094e-01,  2.41553962e-01,\n",
       "        1.07853316e-01, -1.99582726e-01, -3.44078898e-01, -6.04019687e-02,\n",
       "        5.21589965e-02,  3.28599289e-02, -3.27360071e-03,  1.36293441e-01,\n",
       "       -3.81061360e-02, -2.55616188e-01,  1.35476381e-01, -2.36676022e-01,\n",
       "       -4.05685186e-01,  2.38533780e-01,  4.29496244e-02,  1.72240287e-02,\n",
       "       -2.48771250e-01, -5.33275418e-02, -3.07872072e-02,  5.81807569e-02,\n",
       "       -1.23233408e-01,  2.18566786e-02,  2.29185924e-01,  9.34012160e-02,\n",
       "       -2.54486531e-01, -1.76821217e-01,  1.78003669e-01, -1.88910499e-01,\n",
       "       -2.32189000e-01,  1.38992533e-01,  8.63837153e-02,  1.66123077e-01,\n",
       "       -1.26167819e-01,  4.47000265e-02, -2.57256627e-03,  9.59314406e-02,\n",
       "        1.70473874e-01,  4.11356129e-02,  3.73511314e-01, -2.45751023e-01,\n",
       "        8.69029611e-02, -3.60792965e-01, -1.35019884e-01,  2.28721589e-01,\n",
       "        5.50213009e-02,  2.56113172e-01, -2.00422630e-02,  1.00339286e-01,\n",
       "        2.35084035e-02, -5.19265309e-02,  1.96859017e-01, -3.61348502e-04,\n",
       "        3.07785422e-01, -1.46380469e-01,  9.31806713e-02,  1.40383914e-01,\n",
       "        1.81078818e-02, -1.38114601e-01,  4.64570746e-02,  5.93980178e-02,\n",
       "        4.88917530e-02,  2.51312315e-01, -8.47733021e-02,  7.51708895e-02,\n",
       "        1.41398162e-02,  3.21199387e-01,  1.87376738e-01,  3.38848114e-01,\n",
       "        1.51105031e-01,  3.21048439e-01,  1.62717283e-01, -4.25226450e-01,\n",
       "       -3.60833377e-01,  4.96278405e-02,  1.51703253e-01, -2.27194458e-01,\n",
       "       -1.19753838e-01, -2.01471765e-02, -2.40545869e-01,  5.62722683e-02,\n",
       "        3.93153541e-02,  1.62902549e-01,  4.60217968e-02,  1.69599235e-01,\n",
       "       -1.60548583e-01, -2.60264426e-03, -9.23943892e-02, -4.32310611e-01,\n",
       "        9.29703265e-02,  3.15057218e-01,  1.51552521e-02,  4.36365679e-02,\n",
       "       -2.50602841e-01, -8.28461349e-02,  1.22859299e-01,  3.40397283e-02,\n",
       "        1.75263152e-01, -1.60563737e-01, -3.39264005e-01,  8.57211277e-02,\n",
       "        7.73873627e-02, -1.93213820e-01,  1.34666353e-01,  3.19189206e-03,\n",
       "        2.99941778e-01, -2.12175399e-02,  1.68446451e-01,  3.32506061e-01,\n",
       "       -2.90307045e-01, -2.65653692e-02,  1.57835811e-01, -1.45968184e-01,\n",
       "        1.02216840e-01, -3.66670817e-01, -1.05406448e-01,  8.61347243e-02,\n",
       "       -2.02301577e-01,  3.80773991e-02, -1.82997555e-01, -1.71337560e-01,\n",
       "       -1.67108044e-01, -4.81708139e-01, -3.76027450e-02, -2.37805083e-01,\n",
       "        1.88101396e-01, -5.88410161e-02,  5.97653449e-01,  2.54528463e-01,\n",
       "        3.43905091e-02,  3.61726023e-02, -3.01713169e-01, -3.13886702e-01,\n",
       "       -2.44419351e-02,  3.54955904e-02, -1.56710312e-01, -3.16900790e-01,\n",
       "        2.10861992e-02,  2.57124662e-01,  4.08265233e-01,  1.50323167e-01,\n",
       "       -6.00380916e-03, -1.62305430e-01,  3.02281976e-01, -2.29149461e-01,\n",
       "        1.85533658e-01,  9.38914269e-02,  4.12928462e-02, -1.50900602e-01,\n",
       "       -1.33867130e-01,  2.03006029e-01, -2.04596445e-01,  3.01504135e-01,\n",
       "        2.38587439e-01,  6.47757649e-02,  1.75632671e-01,  2.81314194e-01,\n",
       "        1.58511728e-01,  2.10834108e-03,  3.89198691e-01, -2.64083624e-01,\n",
       "       -2.38809541e-01,  2.06713066e-01,  1.16575696e-01, -1.77012697e-01,\n",
       "       -2.77636722e-02,  1.83658838e-01,  2.25405797e-01, -8.78799334e-02,\n",
       "       -1.43584982e-01,  2.10636601e-01,  1.69540927e-01, -5.84747642e-04,\n",
       "       -3.66570950e-02, -3.57495576e-01,  2.06115380e-01, -1.50764555e-01,\n",
       "       -8.18619803e-02,  3.86620499e-02,  1.66414857e-01,  1.40704699e-02,\n",
       "       -2.76515841e-01, -1.28965870e-01, -6.98803663e-02,  2.13923723e-01,\n",
       "       -2.81380862e-01, -3.66244577e-02, -1.43628612e-01,  6.90281540e-02,\n",
       "       -7.71770701e-02,  1.96927160e-01, -2.78328687e-01, -4.52040322e-02,\n",
       "       -1.19244471e-01, -3.84129584e-01,  8.88783634e-02,  4.29855525e-01,\n",
       "        2.08252922e-01, -3.37735057e-01, -2.85533339e-01,  9.70597863e-02,\n",
       "        2.04244316e-01, -6.10274225e-02, -1.66054100e-01, -2.67020464e-01],\n",
       "      dtype=float32)"
      ]
     },
     "execution_count": 7,
     "metadata": {},
     "output_type": "execute_result"
    }
   ],
   "source": [
    "embedding_model.encode(answer_llm)"
   ]
  },
  {
   "cell_type": "code",
   "execution_count": 8,
   "id": "73a7e57f-fcf6-4354-bd0d-0962e99e9e33",
   "metadata": {},
   "outputs": [
    {
     "data": {
      "text/html": [
       "<div>\n",
       "<style scoped>\n",
       "    .dataframe tbody tr th:only-of-type {\n",
       "        vertical-align: middle;\n",
       "    }\n",
       "\n",
       "    .dataframe tbody tr th {\n",
       "        vertical-align: top;\n",
       "    }\n",
       "\n",
       "    .dataframe thead th {\n",
       "        text-align: right;\n",
       "    }\n",
       "</style>\n",
       "<table border=\"1\" class=\"dataframe\">\n",
       "  <thead>\n",
       "    <tr style=\"text-align: right;\">\n",
       "      <th></th>\n",
       "      <th>answer_llm</th>\n",
       "      <th>answer_orig</th>\n",
       "      <th>document</th>\n",
       "      <th>question</th>\n",
       "      <th>course</th>\n",
       "    </tr>\n",
       "  </thead>\n",
       "  <tbody>\n",
       "    <tr>\n",
       "      <th>0</th>\n",
       "      <td>You can sign up for the course by visiting the...</td>\n",
       "      <td>Machine Learning Zoomcamp FAQ\\nThe purpose of ...</td>\n",
       "      <td>0227b872</td>\n",
       "      <td>Where can I sign up for the course?</td>\n",
       "      <td>machine-learning-zoomcamp</td>\n",
       "    </tr>\n",
       "    <tr>\n",
       "      <th>1</th>\n",
       "      <td>You can sign up using the link provided in the...</td>\n",
       "      <td>Machine Learning Zoomcamp FAQ\\nThe purpose of ...</td>\n",
       "      <td>0227b872</td>\n",
       "      <td>Can you provide a link to sign up?</td>\n",
       "      <td>machine-learning-zoomcamp</td>\n",
       "    </tr>\n",
       "    <tr>\n",
       "      <th>2</th>\n",
       "      <td>Yes, there is an FAQ for the Machine Learning ...</td>\n",
       "      <td>Machine Learning Zoomcamp FAQ\\nThe purpose of ...</td>\n",
       "      <td>0227b872</td>\n",
       "      <td>Is there an FAQ for this Machine Learning course?</td>\n",
       "      <td>machine-learning-zoomcamp</td>\n",
       "    </tr>\n",
       "    <tr>\n",
       "      <th>3</th>\n",
       "      <td>The context does not provide any specific info...</td>\n",
       "      <td>Machine Learning Zoomcamp FAQ\\nThe purpose of ...</td>\n",
       "      <td>0227b872</td>\n",
       "      <td>Does this course have a GitHub repository for ...</td>\n",
       "      <td>machine-learning-zoomcamp</td>\n",
       "    </tr>\n",
       "    <tr>\n",
       "      <th>4</th>\n",
       "      <td>To structure your questions and answers for th...</td>\n",
       "      <td>Machine Learning Zoomcamp FAQ\\nThe purpose of ...</td>\n",
       "      <td>0227b872</td>\n",
       "      <td>How can I structure my questions and answers f...</td>\n",
       "      <td>machine-learning-zoomcamp</td>\n",
       "    </tr>\n",
       "  </tbody>\n",
       "</table>\n",
       "</div>"
      ],
      "text/plain": [
       "                                          answer_llm  \\\n",
       "0  You can sign up for the course by visiting the...   \n",
       "1  You can sign up using the link provided in the...   \n",
       "2  Yes, there is an FAQ for the Machine Learning ...   \n",
       "3  The context does not provide any specific info...   \n",
       "4  To structure your questions and answers for th...   \n",
       "\n",
       "                                         answer_orig  document  \\\n",
       "0  Machine Learning Zoomcamp FAQ\\nThe purpose of ...  0227b872   \n",
       "1  Machine Learning Zoomcamp FAQ\\nThe purpose of ...  0227b872   \n",
       "2  Machine Learning Zoomcamp FAQ\\nThe purpose of ...  0227b872   \n",
       "3  Machine Learning Zoomcamp FAQ\\nThe purpose of ...  0227b872   \n",
       "4  Machine Learning Zoomcamp FAQ\\nThe purpose of ...  0227b872   \n",
       "\n",
       "                                            question  \\\n",
       "0                Where can I sign up for the course?   \n",
       "1                 Can you provide a link to sign up?   \n",
       "2  Is there an FAQ for this Machine Learning course?   \n",
       "3  Does this course have a GitHub repository for ...   \n",
       "4  How can I structure my questions and answers f...   \n",
       "\n",
       "                      course  \n",
       "0  machine-learning-zoomcamp  \n",
       "1  machine-learning-zoomcamp  \n",
       "2  machine-learning-zoomcamp  \n",
       "3  machine-learning-zoomcamp  \n",
       "4  machine-learning-zoomcamp  "
      ]
     },
     "execution_count": 8,
     "metadata": {},
     "output_type": "execute_result"
    }
   ],
   "source": [
    "df.head()"
   ]
  },
  {
   "cell_type": "code",
   "execution_count": 12,
   "id": "5b9a2d8d-d7bd-4330-bb6a-5b4f47a9af76",
   "metadata": {},
   "outputs": [],
   "source": [
    "def compute_similarity(row):\n",
    "    answer_orig_vector = embedding_model.encode(row['answer_orig'])\n",
    "    answer_llm_vector = embedding_model.encode(row['answer_llm'])\n",
    "    return answer_llm_vector.dot(answer_orig_vector)\n",
    "\n",
    "df['similarity'] = df.apply(lambda row: compute_similarity(row), axis=1)"
   ]
  },
  {
   "cell_type": "code",
   "execution_count": 13,
   "id": "62133726-bc2c-4d95-9350-9d7c09e244bb",
   "metadata": {},
   "outputs": [
    {
     "data": {
      "text/plain": [
       "31.67430353164673"
      ]
     },
     "execution_count": 13,
     "metadata": {},
     "output_type": "execute_result"
    }
   ],
   "source": [
    "df['similarity'].quantile(0.75)"
   ]
  },
  {
   "cell_type": "code",
   "execution_count": 18,
   "id": "3a01724d-c800-4f18-b614-451c2588b58d",
   "metadata": {},
   "outputs": [],
   "source": [
    "import numpy as np\n",
    "\n",
    "def compute_norm_vector(vector):\n",
    "    norm = np.sqrt((vector * vector).sum())\n",
    "    return vector / norm\n",
    "\n",
    "def compute_cosine_similarity(row):\n",
    "    answer_orig_vector = embedding_model.encode(row['answer_orig'])\n",
    "    answer_llm_vector = embedding_model.encode(row['answer_llm'])\n",
    "\n",
    "    answer_orig_norm_vector = compute_norm_vector(answer_orig_vector)\n",
    "    answer_llm_norm_vector = compute_norm_vector(answer_llm_vector)\n",
    "\n",
    "    return answer_orig_norm_vector.dot(answer_llm_norm_vector)\n",
    "\n",
    "df['cosine_similarity'] = df.apply(lambda row: compute_cosine_similarity(row), axis=1)"
   ]
  },
  {
   "cell_type": "code",
   "execution_count": 19,
   "id": "8d908ea7-6298-4b26-b9c5-906da613d3a5",
   "metadata": {},
   "outputs": [
    {
     "data": {
      "text/plain": [
       "0.8362347632646561"
      ]
     },
     "execution_count": 19,
     "metadata": {},
     "output_type": "execute_result"
    }
   ],
   "source": [
    "df['cosine_similarity'].quantile(0.75)"
   ]
  },
  {
   "cell_type": "code",
   "execution_count": 20,
   "id": "13f9791e-7ff6-4fb6-9664-298a9eed6828",
   "metadata": {},
   "outputs": [
    {
     "name": "stderr",
     "output_type": "stream",
     "text": [
      "huggingface/tokenizers: The current process just got forked, after parallelism has already been used. Disabling parallelism to avoid deadlocks...\n",
      "To disable this warning, you can either:\n",
      "\t- Avoid using `tokenizers` before the fork if possible\n",
      "\t- Explicitly set the environment variable TOKENIZERS_PARALLELISM=(true | false)\n"
     ]
    },
    {
     "name": "stdout",
     "output_type": "stream",
     "text": [
      "Collecting rouge\n",
      "  Downloading rouge-1.0.1-py3-none-any.whl.metadata (4.1 kB)\n",
      "Requirement already satisfied: six in /Users/islam.alaarag/Desktop/llm-zoomcamp/llm_zoomcamp_venv/lib/python3.9/site-packages (from rouge) (1.16.0)\n",
      "Downloading rouge-1.0.1-py3-none-any.whl (13 kB)\n",
      "Installing collected packages: rouge\n",
      "Successfully installed rouge-1.0.1\n",
      "\n",
      "\u001b[1m[\u001b[0m\u001b[34;49mnotice\u001b[0m\u001b[1;39;49m]\u001b[0m\u001b[39;49m A new release of pip is available: \u001b[0m\u001b[31;49m24.1.1\u001b[0m\u001b[39;49m -> \u001b[0m\u001b[32;49m24.1.2\u001b[0m\n",
      "\u001b[1m[\u001b[0m\u001b[34;49mnotice\u001b[0m\u001b[1;39;49m]\u001b[0m\u001b[39;49m To update, run: \u001b[0m\u001b[32;49mpip install --upgrade pip\u001b[0m\n"
     ]
    }
   ],
   "source": [
    "!pip install rouge\n"
   ]
  },
  {
   "cell_type": "code",
   "execution_count": 29,
   "id": "2edf4ce7-b892-4745-8eaf-c57c2f9cf7ee",
   "metadata": {},
   "outputs": [
    {
     "data": {
      "text/plain": [
       "{'rouge-1': {'r': 0.45454545454545453,\n",
       "  'p': 0.45454545454545453,\n",
       "  'f': 0.45454544954545456},\n",
       " 'rouge-2': {'r': 0.21621621621621623,\n",
       "  'p': 0.21621621621621623,\n",
       "  'f': 0.21621621121621637},\n",
       " 'rouge-l': {'r': 0.3939393939393939,\n",
       "  'p': 0.3939393939393939,\n",
       "  'f': 0.393939388939394}}"
      ]
     },
     "execution_count": 29,
     "metadata": {},
     "output_type": "execute_result"
    }
   ],
   "source": [
    "from rouge import Rouge\n",
    "rouge_scorer = Rouge()\n",
    "\n",
    "r = df.iloc[10]\n",
    "scores = rouge_scorer.get_scores(r['answer_llm'], r['answer_orig'])[0]\n",
    "scores"
   ]
  },
  {
   "cell_type": "code",
   "execution_count": 30,
   "id": "b4e2835c-50de-480d-9087-5aa1e538cef5",
   "metadata": {},
   "outputs": [
    {
     "data": {
      "text/plain": [
       "0.35490034990035496"
      ]
     },
     "execution_count": 30,
     "metadata": {},
     "output_type": "execute_result"
    }
   ],
   "source": [
    "np.average([scores['rouge-1']['f'],scores['rouge-2']['f'],scores['rouge-l']['f']])"
   ]
  },
  {
   "cell_type": "code",
   "execution_count": 31,
   "id": "3753621d-cf9f-419c-981d-7043e36e5409",
   "metadata": {},
   "outputs": [],
   "source": [
    "def compute_rouge_similarity(row):\n",
    "    scores = rouge_scorer.get_scores(row['answer_llm'], row['answer_orig'])[0]\n",
    "    return pd.Series(\n",
    "        {'rouge-1': scores['rouge-1']['f'], \n",
    "         'rouge-2': scores['rouge-2']['f'],\n",
    "         'rouge-l': scores['rouge-l']['f']})\n",
    "\n",
    "df = df.join(df.apply(compute_rouge_similarity, axis=1))\n"
   ]
  },
  {
   "cell_type": "code",
   "execution_count": 32,
   "id": "a253522a-c6f8-48bb-869d-ca4800ad8d71",
   "metadata": {},
   "outputs": [
    {
     "data": {
      "text/html": [
       "<div>\n",
       "<style scoped>\n",
       "    .dataframe tbody tr th:only-of-type {\n",
       "        vertical-align: middle;\n",
       "    }\n",
       "\n",
       "    .dataframe tbody tr th {\n",
       "        vertical-align: top;\n",
       "    }\n",
       "\n",
       "    .dataframe thead th {\n",
       "        text-align: right;\n",
       "    }\n",
       "</style>\n",
       "<table border=\"1\" class=\"dataframe\">\n",
       "  <thead>\n",
       "    <tr style=\"text-align: right;\">\n",
       "      <th></th>\n",
       "      <th>answer_llm</th>\n",
       "      <th>answer_orig</th>\n",
       "      <th>document</th>\n",
       "      <th>question</th>\n",
       "      <th>course</th>\n",
       "      <th>similarity</th>\n",
       "      <th>cosine_similarity</th>\n",
       "      <th>rouge-1</th>\n",
       "      <th>rouge-2</th>\n",
       "      <th>rouge-l</th>\n",
       "    </tr>\n",
       "  </thead>\n",
       "  <tbody>\n",
       "    <tr>\n",
       "      <th>0</th>\n",
       "      <td>You can sign up for the course by visiting the...</td>\n",
       "      <td>Machine Learning Zoomcamp FAQ\\nThe purpose of ...</td>\n",
       "      <td>0227b872</td>\n",
       "      <td>Where can I sign up for the course?</td>\n",
       "      <td>machine-learning-zoomcamp</td>\n",
       "      <td>17.515995</td>\n",
       "      <td>0.506754</td>\n",
       "      <td>0.095238</td>\n",
       "      <td>0.028169</td>\n",
       "      <td>0.095238</td>\n",
       "    </tr>\n",
       "    <tr>\n",
       "      <th>1</th>\n",
       "      <td>You can sign up using the link provided in the...</td>\n",
       "      <td>Machine Learning Zoomcamp FAQ\\nThe purpose of ...</td>\n",
       "      <td>0227b872</td>\n",
       "      <td>Can you provide a link to sign up?</td>\n",
       "      <td>machine-learning-zoomcamp</td>\n",
       "      <td>13.418406</td>\n",
       "      <td>0.388549</td>\n",
       "      <td>0.125000</td>\n",
       "      <td>0.055556</td>\n",
       "      <td>0.093750</td>\n",
       "    </tr>\n",
       "    <tr>\n",
       "      <th>2</th>\n",
       "      <td>Yes, there is an FAQ for the Machine Learning ...</td>\n",
       "      <td>Machine Learning Zoomcamp FAQ\\nThe purpose of ...</td>\n",
       "      <td>0227b872</td>\n",
       "      <td>Is there an FAQ for this Machine Learning course?</td>\n",
       "      <td>machine-learning-zoomcamp</td>\n",
       "      <td>25.313255</td>\n",
       "      <td>0.718599</td>\n",
       "      <td>0.415584</td>\n",
       "      <td>0.177778</td>\n",
       "      <td>0.389610</td>\n",
       "    </tr>\n",
       "    <tr>\n",
       "      <th>3</th>\n",
       "      <td>The context does not provide any specific info...</td>\n",
       "      <td>Machine Learning Zoomcamp FAQ\\nThe purpose of ...</td>\n",
       "      <td>0227b872</td>\n",
       "      <td>Does this course have a GitHub repository for ...</td>\n",
       "      <td>machine-learning-zoomcamp</td>\n",
       "      <td>12.147417</td>\n",
       "      <td>0.337266</td>\n",
       "      <td>0.216216</td>\n",
       "      <td>0.047059</td>\n",
       "      <td>0.189189</td>\n",
       "    </tr>\n",
       "    <tr>\n",
       "      <th>4</th>\n",
       "      <td>To structure your questions and answers for th...</td>\n",
       "      <td>Machine Learning Zoomcamp FAQ\\nThe purpose of ...</td>\n",
       "      <td>0227b872</td>\n",
       "      <td>How can I structure my questions and answers f...</td>\n",
       "      <td>machine-learning-zoomcamp</td>\n",
       "      <td>18.747723</td>\n",
       "      <td>0.521792</td>\n",
       "      <td>0.142076</td>\n",
       "      <td>0.033898</td>\n",
       "      <td>0.120219</td>\n",
       "    </tr>\n",
       "  </tbody>\n",
       "</table>\n",
       "</div>"
      ],
      "text/plain": [
       "                                          answer_llm  \\\n",
       "0  You can sign up for the course by visiting the...   \n",
       "1  You can sign up using the link provided in the...   \n",
       "2  Yes, there is an FAQ for the Machine Learning ...   \n",
       "3  The context does not provide any specific info...   \n",
       "4  To structure your questions and answers for th...   \n",
       "\n",
       "                                         answer_orig  document  \\\n",
       "0  Machine Learning Zoomcamp FAQ\\nThe purpose of ...  0227b872   \n",
       "1  Machine Learning Zoomcamp FAQ\\nThe purpose of ...  0227b872   \n",
       "2  Machine Learning Zoomcamp FAQ\\nThe purpose of ...  0227b872   \n",
       "3  Machine Learning Zoomcamp FAQ\\nThe purpose of ...  0227b872   \n",
       "4  Machine Learning Zoomcamp FAQ\\nThe purpose of ...  0227b872   \n",
       "\n",
       "                                            question  \\\n",
       "0                Where can I sign up for the course?   \n",
       "1                 Can you provide a link to sign up?   \n",
       "2  Is there an FAQ for this Machine Learning course?   \n",
       "3  Does this course have a GitHub repository for ...   \n",
       "4  How can I structure my questions and answers f...   \n",
       "\n",
       "                      course  similarity  cosine_similarity   rouge-1  \\\n",
       "0  machine-learning-zoomcamp   17.515995           0.506754  0.095238   \n",
       "1  machine-learning-zoomcamp   13.418406           0.388549  0.125000   \n",
       "2  machine-learning-zoomcamp   25.313255           0.718599  0.415584   \n",
       "3  machine-learning-zoomcamp   12.147417           0.337266  0.216216   \n",
       "4  machine-learning-zoomcamp   18.747723           0.521792  0.142076   \n",
       "\n",
       "    rouge-2   rouge-l  \n",
       "0  0.028169  0.095238  \n",
       "1  0.055556  0.093750  \n",
       "2  0.177778  0.389610  \n",
       "3  0.047059  0.189189  \n",
       "4  0.033898  0.120219  "
      ]
     },
     "execution_count": 32,
     "metadata": {},
     "output_type": "execute_result"
    }
   ],
   "source": [
    "df.head()"
   ]
  },
  {
   "cell_type": "code",
   "execution_count": 35,
   "id": "b759c1b9-2abe-4e6c-8cd7-a03b9a91bafb",
   "metadata": {},
   "outputs": [
    {
     "data": {
      "text/plain": [
       "0.20696501983423318"
      ]
     },
     "execution_count": 35,
     "metadata": {},
     "output_type": "execute_result"
    }
   ],
   "source": [
    "np.average(df['rouge-2'])"
   ]
  },
  {
   "cell_type": "code",
   "execution_count": null,
   "id": "93cfa389-4677-42b0-aeae-21e0adab68a7",
   "metadata": {},
   "outputs": [],
   "source": []
  }
 ],
 "metadata": {
  "kernelspec": {
   "display_name": "Python 3 (ipykernel)",
   "language": "python",
   "name": "python3"
  },
  "language_info": {
   "codemirror_mode": {
    "name": "ipython",
    "version": 3
   },
   "file_extension": ".py",
   "mimetype": "text/x-python",
   "name": "python",
   "nbconvert_exporter": "python",
   "pygments_lexer": "ipython3",
   "version": "3.9.16"
  }
 },
 "nbformat": 4,
 "nbformat_minor": 5
}
